{
 "cells": [
  {
   "cell_type": "code",
   "execution_count": 1,
   "metadata": {},
   "outputs": [],
   "source": [
    "from torchinfo import summary\n",
    "import torch\n",
    "\n",
    "from going_modular.model.MTLFaceRecognition import MTLFaceRecognition\n",
    "\n",
    "device = torch.device('cuda' if torch.cuda.is_available() else 'cpu')  # Xác định thiết bị\n",
    "\n",
    "CONFIGURATION = {\n",
    "    'backbone': 'miresnet18',\n",
    "    'image_size': 256,\n",
    "    'num_classes': 123\n",
    "}"
   ]
  },
  {
   "cell_type": "code",
   "execution_count": 2,
   "metadata": {},
   "outputs": [
    {
     "data": {
      "text/plain": [
       "=======================================================================================================================================\n",
       "Layer (type (var_name))                                 Input Shape          Output Shape         Param #              Trainable\n",
       "=======================================================================================================================================\n",
       "MTLFaceRecognition (MTLFaceRecognition)                 [16, 3, 256, 256]    [16, 2]              --                   True\n",
       "├─MIResNet (backbone)                                   [16, 3, 256, 256]    [16, 512, 8, 8]      3,954,764            True\n",
       "│    └─Conv2d (conv1)                                   [16, 3, 256, 256]    [16, 64, 128, 128]   9,408                True\n",
       "│    └─BatchNorm2d (bn1)                                [16, 64, 128, 128]   [16, 64, 128, 128]   128                  True\n",
       "│    └─PReLU (prelu)                                    [16, 64, 128, 128]   [16, 64, 128, 128]   1                    True\n",
       "│    └─Sequential (layer1)                              [16, 64, 128, 128]   [16, 64, 64, 64]     --                   True\n",
       "│    │    └─BasicBlock (0)                              [16, 64, 128, 128]   [16, 64, 64, 64]     73,985               True\n",
       "│    │    └─BasicBlock (1)                              [16, 64, 64, 64]     [16, 64, 64, 64]     73,985               True\n",
       "│    └─Sequential (layer2)                              [16, 64, 64, 64]     [16, 128, 32, 32]    --                   True\n",
       "│    │    └─BasicBlock (0)                              [16, 64, 64, 64]     [16, 128, 32, 32]    230,145              True\n",
       "│    │    └─BasicBlock (1)                              [16, 128, 32, 32]    [16, 128, 32, 32]    295,425              True\n",
       "│    └─Sequential (layer3)                              [16, 128, 32, 32]    [16, 256, 16, 16]    --                   True\n",
       "│    │    └─BasicBlock (0)                              [16, 128, 32, 32]    [16, 256, 16, 16]    919,041              True\n",
       "│    │    └─BasicBlock (1)                              [16, 256, 16, 16]    [16, 256, 16, 16]    1,180,673            True\n",
       "│    └─Sequential (layer4)                              [16, 256, 16, 16]    [16, 512, 8, 8]      --                   True\n",
       "│    │    └─BasicBlock (0)                              [16, 256, 16, 16]    [16, 512, 8, 8]      3,673,089            True\n",
       "│    │    └─BasicBlock (1)                              [16, 512, 8, 8]      [16, 512, 8, 8]      4,720,641            True\n",
       "│    └─AttentionModule (spectacles_fsm)                 [16, 512, 8, 8]      [16, 512, 8, 8]      --                   True\n",
       "│    │    └─SPPModule (avg_spp)                         [16, 512, 8, 8]      [16, 7168, 1, 1]     --                   --\n",
       "│    │    └─SPPModule (max_spp)                         [16, 512, 8, 8]      [16, 7168, 1, 1]     --                   --\n",
       "│    │    └─Sequential (channel)                        [16, 7168, 1, 1]     [16, 512, 1, 1]      3,441,664            True\n",
       "│    │    └─Sequential (spatial)                        [16, 2, 8, 8]        [16, 1, 8, 8]        100                  True\n",
       "│    └─AttentionModule (occlusion_fsm)                  [16, 512, 8, 8]      [16, 512, 8, 8]      --                   True\n",
       "│    │    └─SPPModule (avg_spp)                         [16, 512, 8, 8]      [16, 7168, 1, 1]     --                   --\n",
       "│    │    └─SPPModule (max_spp)                         [16, 512, 8, 8]      [16, 7168, 1, 1]     --                   --\n",
       "│    │    └─Sequential (channel)                        [16, 7168, 1, 1]     [16, 512, 1, 1]      3,441,664            True\n",
       "│    │    └─Sequential (spatial)                        [16, 2, 8, 8]        [16, 1, 8, 8]        100                  True\n",
       "│    └─AttentionModule (facial_hair_fsm)                [16, 512, 8, 8]      [16, 512, 8, 8]      --                   True\n",
       "│    │    └─SPPModule (avg_spp)                         [16, 512, 8, 8]      [16, 7168, 1, 1]     --                   --\n",
       "│    │    └─SPPModule (max_spp)                         [16, 512, 8, 8]      [16, 7168, 1, 1]     --                   --\n",
       "│    │    └─Sequential (channel)                        [16, 7168, 1, 1]     [16, 512, 1, 1]      3,441,664            True\n",
       "│    │    └─Sequential (spatial)                        [16, 2, 8, 8]        [16, 1, 8, 8]        100                  True\n",
       "│    └─AttentionModule (facial_hair_fsm)                [16, 512, 8, 8]      [16, 512, 8, 8]      (recursive)          True\n",
       "│    │    └─SPPModule (avg_spp)                         [16, 512, 8, 8]      [16, 7168, 1, 1]     --                   --\n",
       "│    │    └─SPPModule (max_spp)                         [16, 512, 8, 8]      [16, 7168, 1, 1]     --                   --\n",
       "│    │    └─Sequential (channel)                        [16, 7168, 1, 1]     [16, 512, 1, 1]      (recursive)          True\n",
       "│    │    └─Sequential (spatial)                        [16, 2, 8, 8]        [16, 1, 8, 8]        (recursive)          True\n",
       "│    └─AttentionModule (pose_fsm)                       [16, 512, 8, 8]      [16, 512, 8, 8]      --                   True\n",
       "│    │    └─SPPModule (avg_spp)                         [16, 512, 8, 8]      [16, 7168, 1, 1]     --                   --\n",
       "│    │    └─SPPModule (max_spp)                         [16, 512, 8, 8]      [16, 7168, 1, 1]     --                   --\n",
       "│    │    └─Sequential (channel)                        [16, 7168, 1, 1]     [16, 512, 1, 1]      3,441,664            True\n",
       "│    │    └─Sequential (spatial)                        [16, 2, 8, 8]        [16, 1, 8, 8]        100                  True\n",
       "│    └─AttentionModule (gender_fsm)                     [16, 512, 8, 8]      [16, 512, 8, 8]      --                   True\n",
       "│    │    └─SPPModule (avg_spp)                         [16, 512, 8, 8]      [16, 7168, 1, 1]     --                   --\n",
       "│    │    └─SPPModule (max_spp)                         [16, 512, 8, 8]      [16, 7168, 1, 1]     --                   --\n",
       "│    │    └─Sequential (channel)                        [16, 7168, 1, 1]     [16, 512, 1, 1]      3,441,664            True\n",
       "│    │    └─Sequential (spatial)                        [16, 2, 8, 8]        [16, 1, 8, 8]        100                  True\n",
       "├─SpectacleDetectModule (spectacles_head)               [16, 512, 8, 8]      [16, 2]              --                   True\n",
       "│    └─Sequential (spectacle_ouput_layer)               [16, 512, 8, 8]      [16, 2]              --                   True\n",
       "│    │    └─BatchNorm2d (0)                             [16, 512, 8, 8]      [16, 512, 8, 8]      1,024                True\n",
       "│    │    └─AdaptiveAvgPool2d (1)                       [16, 512, 8, 8]      [16, 512, 1, 1]      --                   --\n",
       "│    │    └─Flatten (2)                                 [16, 512, 1, 1]      [16, 512]            --                   --\n",
       "│    │    └─LeakyReLU (3)                               [16, 512]            [16, 512]            --                   --\n",
       "│    │    └─Linear (4)                                  [16, 512]            [16, 2]              1,026                True\n",
       "├─GradientReverseLayer (grl_spectacles)                 [16, 512, 8, 8]      [16, 512, 8, 8]      --                   --\n",
       "├─SpectacleDetectModule (da_spectacles_head)            [16, 512, 8, 8]      [16, 2]              --                   True\n",
       "│    └─Sequential (spectacle_ouput_layer)               [16, 512, 8, 8]      [16, 2]              --                   True\n",
       "│    │    └─BatchNorm2d (0)                             [16, 512, 8, 8]      [16, 512, 8, 8]      1,024                True\n",
       "│    │    └─AdaptiveAvgPool2d (1)                       [16, 512, 8, 8]      [16, 512, 1, 1]      --                   --\n",
       "│    │    └─Flatten (2)                                 [16, 512, 1, 1]      [16, 512]            --                   --\n",
       "│    │    └─LeakyReLU (3)                               [16, 512]            [16, 512]            --                   --\n",
       "│    │    └─Linear (4)                                  [16, 512]            [16, 2]              1,026                True\n",
       "├─OcclusionDetectModule (occlusion_head)                [16, 512, 8, 8]      [16, 3]              --                   True\n",
       "│    └─Sequential (occlusion_ouput_layer)               [16, 512, 8, 8]      [16, 3]              --                   True\n",
       "│    │    └─BatchNorm2d (0)                             [16, 512, 8, 8]      [16, 512, 8, 8]      1,024                True\n",
       "│    │    └─AdaptiveAvgPool2d (1)                       [16, 512, 8, 8]      [16, 512, 1, 1]      --                   --\n",
       "│    │    └─Flatten (2)                                 [16, 512, 1, 1]      [16, 512]            --                   --\n",
       "│    │    └─LeakyReLU (3)                               [16, 512]            [16, 512]            --                   --\n",
       "│    │    └─Linear (4)                                  [16, 512]            [16, 3]              1,539                True\n",
       "├─GradientReverseLayer (grl_occlusion)                  [16, 512, 8, 8]      [16, 512, 8, 8]      --                   --\n",
       "├─OcclusionDetectModule (da_occlusion_head)             [16, 512, 8, 8]      [16, 3]              --                   True\n",
       "│    └─Sequential (occlusion_ouput_layer)               [16, 512, 8, 8]      [16, 3]              --                   True\n",
       "│    │    └─BatchNorm2d (0)                             [16, 512, 8, 8]      [16, 512, 8, 8]      1,024                True\n",
       "│    │    └─AdaptiveAvgPool2d (1)                       [16, 512, 8, 8]      [16, 512, 1, 1]      --                   --\n",
       "│    │    └─Flatten (2)                                 [16, 512, 1, 1]      [16, 512]            --                   --\n",
       "│    │    └─LeakyReLU (3)                               [16, 512]            [16, 512]            --                   --\n",
       "│    │    └─Linear (4)                                  [16, 512]            [16, 3]              1,539                True\n",
       "├─FacialHairDetectModule (facial_hair_head)             [16, 512, 8, 8]      [16, 2]              --                   True\n",
       "│    └─Sequential (facial_hair_ouput_layer)             [16, 512, 8, 8]      [16, 2]              --                   True\n",
       "│    │    └─BatchNorm2d (0)                             [16, 512, 8, 8]      [16, 512, 8, 8]      1,024                True\n",
       "│    │    └─AdaptiveAvgPool2d (1)                       [16, 512, 8, 8]      [16, 512, 1, 1]      --                   --\n",
       "│    │    └─Flatten (2)                                 [16, 512, 1, 1]      [16, 512]            --                   --\n",
       "│    │    └─LeakyReLU (3)                               [16, 512]            [16, 512]            --                   --\n",
       "│    │    └─Linear (4)                                  [16, 512]            [16, 2]              1,026                True\n",
       "├─GradientReverseLayer (grl_facial_hair)                [16, 512, 8, 8]      [16, 512, 8, 8]      --                   --\n",
       "├─FacialHairDetectModule (da_facial_hair_head)          [16, 512, 8, 8]      [16, 2]              --                   True\n",
       "│    └─Sequential (facial_hair_ouput_layer)             [16, 512, 8, 8]      [16, 2]              --                   True\n",
       "│    │    └─BatchNorm2d (0)                             [16, 512, 8, 8]      [16, 512, 8, 8]      1,024                True\n",
       "│    │    └─AdaptiveAvgPool2d (1)                       [16, 512, 8, 8]      [16, 512, 1, 1]      --                   --\n",
       "│    │    └─Flatten (2)                                 [16, 512, 1, 1]      [16, 512]            --                   --\n",
       "│    │    └─LeakyReLU (3)                               [16, 512]            [16, 512]            --                   --\n",
       "│    │    └─Linear (4)                                  [16, 512]            [16, 2]              1,026                True\n",
       "├─PoseDetectModule (pose_head)                          [16, 512, 8, 8]      [16, 3]              --                   True\n",
       "│    └─Sequential (pose_ouput_layer)                    [16, 512, 8, 8]      [16, 3]              --                   True\n",
       "│    │    └─BatchNorm2d (0)                             [16, 512, 8, 8]      [16, 512, 8, 8]      1,024                True\n",
       "│    │    └─AdaptiveAvgPool2d (1)                       [16, 512, 8, 8]      [16, 512, 1, 1]      --                   --\n",
       "│    │    └─Flatten (2)                                 [16, 512, 1, 1]      [16, 512]            --                   --\n",
       "│    │    └─LeakyReLU (3)                               [16, 512]            [16, 512]            --                   --\n",
       "│    │    └─Linear (4)                                  [16, 512]            [16, 3]              1,539                True\n",
       "├─GradientReverseLayer (grl_pose)                       [16, 512, 8, 8]      [16, 512, 8, 8]      --                   --\n",
       "├─PoseDetectModule (da_pose_head)                       [16, 512, 8, 8]      [16, 3]              --                   True\n",
       "│    └─Sequential (pose_ouput_layer)                    [16, 512, 8, 8]      [16, 3]              --                   True\n",
       "│    │    └─BatchNorm2d (0)                             [16, 512, 8, 8]      [16, 512, 8, 8]      1,024                True\n",
       "│    │    └─AdaptiveAvgPool2d (1)                       [16, 512, 8, 8]      [16, 512, 1, 1]      --                   --\n",
       "│    │    └─Flatten (2)                                 [16, 512, 1, 1]      [16, 512]            --                   --\n",
       "│    │    └─LeakyReLU (3)                               [16, 512]            [16, 512]            --                   --\n",
       "│    │    └─Linear (4)                                  [16, 512]            [16, 3]              1,539                True\n",
       "├─EmotionDetectModule (emotion_head)                    [16, 512, 8, 8]      [16, 3]              --                   True\n",
       "│    └─Sequential (emotion_ouput_layer)                 [16, 512, 8, 8]      [16, 3]              --                   True\n",
       "│    │    └─BatchNorm2d (0)                             [16, 512, 8, 8]      [16, 512, 8, 8]      1,024                True\n",
       "│    │    └─AdaptiveAvgPool2d (1)                       [16, 512, 8, 8]      [16, 512, 1, 1]      --                   --\n",
       "│    │    └─Flatten (2)                                 [16, 512, 1, 1]      [16, 512]            --                   --\n",
       "│    │    └─LeakyReLU (3)                               [16, 512]            [16, 512]            --                   --\n",
       "│    │    └─Linear (4)                                  [16, 512]            [16, 3]              1,539                True\n",
       "├─GradientReverseLayer (grl_emotion)                    [16, 512, 8, 8]      [16, 512, 8, 8]      --                   --\n",
       "├─EmotionDetectModule (da_emotion_head)                 [16, 512, 8, 8]      [16, 3]              --                   True\n",
       "│    └─Sequential (emotion_ouput_layer)                 [16, 512, 8, 8]      [16, 3]              --                   True\n",
       "│    │    └─BatchNorm2d (0)                             [16, 512, 8, 8]      [16, 512, 8, 8]      1,024                True\n",
       "│    │    └─AdaptiveAvgPool2d (1)                       [16, 512, 8, 8]      [16, 512, 1, 1]      --                   --\n",
       "│    │    └─Flatten (2)                                 [16, 512, 1, 1]      [16, 512]            --                   --\n",
       "│    │    └─LeakyReLU (3)                               [16, 512]            [16, 512]            --                   --\n",
       "│    │    └─Linear (4)                                  [16, 512]            [16, 3]              1,539                True\n",
       "├─GenderDetectModule (gender_head)                      [16, 512, 8, 8]      [16, 2]              --                   True\n",
       "│    └─Sequential (gender_ouput_layer)                  [16, 512, 8, 8]      [16, 2]              --                   True\n",
       "│    │    └─BatchNorm2d (0)                             [16, 512, 8, 8]      [16, 512, 8, 8]      1,024                True\n",
       "│    │    └─AdaptiveAvgPool2d (1)                       [16, 512, 8, 8]      [16, 512, 1, 1]      --                   --\n",
       "│    │    └─Flatten (2)                                 [16, 512, 1, 1]      [16, 512]            --                   --\n",
       "│    │    └─LeakyReLU (3)                               [16, 512]            [16, 512]            --                   --\n",
       "│    │    └─Linear (4)                                  [16, 512]            [16, 2]              1,026                True\n",
       "├─GradientReverseLayer (grl_gender)                     [16, 512, 8, 8]      [16, 512, 8, 8]      --                   --\n",
       "├─GenderDetectModule (da_gender_head)                   [16, 512, 8, 8]      [16, 2]              --                   True\n",
       "│    └─Sequential (gender_ouput_layer)                  [16, 512, 8, 8]      [16, 2]              --                   True\n",
       "│    │    └─BatchNorm2d (0)                             [16, 512, 8, 8]      [16, 512, 8, 8]      1,024                True\n",
       "│    │    └─AdaptiveAvgPool2d (1)                       [16, 512, 8, 8]      [16, 512, 1, 1]      --                   --\n",
       "│    │    └─Flatten (2)                                 [16, 512, 1, 1]      [16, 512]            --                   --\n",
       "│    │    └─LeakyReLU (3)                               [16, 512]            [16, 512]            --                   --\n",
       "│    │    └─Linear (4)                                  [16, 512]            [16, 2]              1,026                True\n",
       "├─IdRecognitionModule (id_head)                         [16, 512, 8, 8]      [16, 123]            --                   True\n",
       "│    └─Sequential (id_ouput_layer)                      [16, 512, 8, 8]      [16, 512]            --                   True\n",
       "│    │    └─BatchNorm2d (0)                             [16, 512, 8, 8]      [16, 512, 8, 8]      1,024                True\n",
       "│    │    └─AdaptiveAvgPool2d (1)                       [16, 512, 8, 8]      [16, 512, 1, 1]      --                   --\n",
       "│    │    └─Flatten (2)                                 [16, 512, 1, 1]      [16, 512]            --                   --\n",
       "│    │    └─LeakyReLU (3)                               [16, 512]            [16, 512]            --                   --\n",
       "│    └─MagLinear (maglinear)                            [16, 512]            [16, 123]            62,976               True\n",
       "=======================================================================================================================================\n",
       "Total params: 32,431,783\n",
       "Trainable params: 32,431,783\n",
       "Non-trainable params: 0\n",
       "Total mult-adds (G): 38.23\n",
       "=======================================================================================================================================\n",
       "Input size (MB): 12.58\n",
       "Forward/backward pass size (MB): 1272.12\n",
       "Params size (MB): 113.91\n",
       "Estimated Total Size (MB): 1398.61\n",
       "======================================================================================================================================="
      ]
     },
     "execution_count": 2,
     "metadata": {},
     "output_type": "execute_result"
    }
   ],
   "source": [
    "model = MTLFaceRecognition(backbone=CONFIGURATION['backbone'], num_classes=CONFIGURATION['num_classes']).to(device)\n",
    "\n",
    "# Summarize the model\n",
    "summary(\n",
    "    model=model,\n",
    "    input_size=(16, 3, 256, 256),\n",
    "    col_names=[\"input_size\", \"output_size\", \"num_params\", \"trainable\"],\n",
    "    col_width=20,\n",
    "    row_settings=[\"var_names\"]\n",
    ")"
   ]
  },
  {
   "cell_type": "code",
   "execution_count": 3,
   "metadata": {},
   "outputs": [
    {
     "data": {
      "text/plain": [
       "torch.Size([1, 512, 8, 8])"
      ]
     },
     "execution_count": 3,
     "metadata": {},
     "output_type": "execute_result"
    }
   ],
   "source": [
    "model.eval()\n",
    "dumpy_input = torch.randn(1,3,256,256).to(device)\n",
    "features = model(dumpy_input)\n",
    "x_id, x_gender, x_pose, x_emotion, x_facial_hair, x_occlusion, x_spectacles = features\n",
    "\n",
    "x_gender.shape"
   ]
  },
  {
   "cell_type": "code",
   "execution_count": 4,
   "metadata": {},
   "outputs": [],
   "source": [
    "from going_modular.model.head.gender import GenderDetectModule\n",
    "\n",
    "age_estimate = GenderDetectModule(256).to(device)"
   ]
  },
  {
   "cell_type": "code",
   "execution_count": 5,
   "metadata": {},
   "outputs": [
    {
     "data": {
      "text/plain": [
       "torch.Size([1, 101])"
      ]
     },
     "execution_count": 5,
     "metadata": {},
     "output_type": "execute_result"
    }
   ],
   "source": [
    "x = age_estimate(x_gender)\n",
    "\n",
    "x.shape"
   ]
  }
 ],
 "metadata": {
  "kernelspec": {
   "display_name": "torch",
   "language": "python",
   "name": "python3"
  },
  "language_info": {
   "codemirror_mode": {
    "name": "ipython",
    "version": 3
   },
   "file_extension": ".py",
   "mimetype": "text/x-python",
   "name": "python",
   "nbconvert_exporter": "python",
   "pygments_lexer": "ipython3",
   "version": "3.10.12"
  }
 },
 "nbformat": 4,
 "nbformat_minor": 2
}
